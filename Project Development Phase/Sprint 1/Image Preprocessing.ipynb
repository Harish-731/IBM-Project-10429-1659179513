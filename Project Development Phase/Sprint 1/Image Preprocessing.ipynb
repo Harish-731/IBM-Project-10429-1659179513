{
 "cells": [
  {
   "cell_type": "code",
   "execution_count": 1,
   "id": "31b534e7",
   "metadata": {},
   "outputs": [],
   "source": [
    "from keras.preprocessing.image import ImageDataGenerator"
   ]
  },
  {
   "cell_type": "code",
   "execution_count": 2,
   "id": "ab9df61a",
   "metadata": {},
   "outputs": [],
   "source": [
    "train_datagen=ImageDataGenerator(rescale=1./255,shear_range=0.2,zoom_range=0.2,horizontal_flip=True)\n",
    "test_datagen=ImageDataGenerator(rescale=1./255)"
   ]
  },
  {
   "cell_type": "code",
   "execution_count": 3,
   "id": "f964293a",
   "metadata": {},
   "outputs": [
    {
     "name": "stdout",
     "output_type": "stream",
     "text": [
      "Found 15341 images belonging to 6 classes.\n",
      "Found 6825 images belonging to 6 classes.\n"
     ]
    }
   ],
   "source": [
    "x_train=train_datagen.flow_from_directory(directory=r'C:\\Users\\haris\\Downloads\\Classification of Arrhythmia by Using Deep Learning with 2-D ECG Spectral Image Representation\\data\\train',target_size=(64,64),batch_size=32,class_mode='categorical')\n",
    "x_test=test_datagen.flow_from_directory(directory=r'C:\\Users\\haris\\Downloads\\Classification of Arrhythmia by Using Deep Learning with 2-D ECG Spectral Image Representation\\data\\test',target_size=(64,64),batch_size=32,class_mode='categorical')"
   ]
  }
 ],
 "metadata": {
  "kernelspec": {
   "display_name": "Python 3",
   "language": "python",
   "name": "python3"
  },
  "language_info": {
   "codemirror_mode": {
    "name": "ipython",
    "version": 3
   },
   "file_extension": ".py",
   "mimetype": "text/x-python",
   "name": "python",
   "nbconvert_exporter": "python",
   "pygments_lexer": "ipython3",
   "version": "3.8.8"
  }
 },
 "nbformat": 4,
 "nbformat_minor": 5
}
