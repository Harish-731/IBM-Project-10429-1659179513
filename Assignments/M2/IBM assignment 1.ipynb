{
 "cells": [
  {
   "cell_type": "markdown",
   "id": "7603faa4",
   "metadata": {},
   "source": [
    "# Basic Python\n"
   ]
  },
  {
   "cell_type": "markdown",
   "id": "d2a859d2",
   "metadata": {},
   "source": [
    "# 1. Split this string\n"
   ]
  },
  {
   "cell_type": "code",
   "execution_count": 1,
   "id": "0b7ced82",
   "metadata": {},
   "outputs": [
    {
     "data": {
      "text/plain": [
       "['Hi', 'there', 'Sam!']"
      ]
     },
     "execution_count": 1,
     "metadata": {},
     "output_type": "execute_result"
    }
   ],
   "source": [
    "s = \"Hi there Sam!\"\n",
    "s.split(' ')\n"
   ]
  },
  {
   "cell_type": "markdown",
   "id": "55d2f96b",
   "metadata": {},
   "source": [
    "# 2. Use .format() to print the following string.\n",
    "Output should be: The diameter of Earth is 12742 kilomet"
   ]
  },
  {
   "cell_type": "code",
   "execution_count": 2,
   "id": "b12da17d",
   "metadata": {},
   "outputs": [
    {
     "name": "stdout",
     "output_type": "stream",
     "text": [
      "The diameter of the Earth is 12742 kilometers\n"
     ]
    }
   ],
   "source": [
    "planet = \"Earth\"\n",
    "diameter = 12742\n",
    "print('The diameter of the {} is {} kilometers'.format(planet, diameter))"
   ]
  },
  {
   "cell_type": "markdown",
   "id": "462d9b92",
   "metadata": {},
   "source": [
    "# 3. In this nest dictionary grab the word \"hello\"\n"
   ]
  },
  {
   "cell_type": "code",
   "execution_count": 3,
   "id": "efc09f2c",
   "metadata": {},
   "outputs": [
    {
     "data": {
      "text/plain": [
       "'hello'"
      ]
     },
     "execution_count": 3,
     "metadata": {},
     "output_type": "execute_result"
    }
   ],
   "source": [
    "d = {'k1':[1,2,3,{'tricky':['oh','man','inception',{'target':[1,2,3,'hello']}]}]}\n",
    "d['k1'][3]['tricky'][3]['target'][3]\n"
   ]
  },
  {
   "cell_type": "markdown",
   "id": "6d4741d1",
   "metadata": {},
   "source": [
    "# Numpy\n"
   ]
  },
  {
   "cell_type": "code",
   "execution_count": 4,
   "id": "6609cf6a",
   "metadata": {},
   "outputs": [],
   "source": [
    "import numpy as np"
   ]
  },
  {
   "cell_type": "markdown",
   "id": "5df510ae",
   "metadata": {},
   "source": [
    "# 4.1 Create an array of 10 zeros?\n"
   ]
  },
  {
   "cell_type": "markdown",
   "id": "748f42b1",
   "metadata": {},
   "source": [
    "# 4.2 Create an array of 10 fives?\n"
   ]
  },
  {
   "cell_type": "code",
   "execution_count": 5,
   "id": "58f80d22",
   "metadata": {},
   "outputs": [
    {
     "data": {
      "text/plain": [
       "array([0., 0., 0., 0., 0., 0., 0., 0., 0., 0.])"
      ]
     },
     "execution_count": 5,
     "metadata": {},
     "output_type": "execute_result"
    }
   ],
   "source": [
    "np.zeros(10)\n"
   ]
  },
  {
   "cell_type": "code",
   "execution_count": 6,
   "id": "69842206",
   "metadata": {},
   "outputs": [
    {
     "data": {
      "text/plain": [
       "array([5., 5., 5., 5., 5., 5., 5., 5., 5., 5.])"
      ]
     },
     "execution_count": 6,
     "metadata": {},
     "output_type": "execute_result"
    }
   ],
   "source": [
    "np.zeros(10) + 5\n"
   ]
  },
  {
   "cell_type": "markdown",
   "id": "5c55401e",
   "metadata": {},
   "source": [
    "# 5. Create an array of all the even integers from 20 to 35\n"
   ]
  },
  {
   "cell_type": "code",
   "execution_count": 7,
   "id": "f09dd364",
   "metadata": {},
   "outputs": [
    {
     "data": {
      "text/plain": [
       "array([20, 22, 24, 26, 28, 30, 32, 34])"
      ]
     },
     "execution_count": 7,
     "metadata": {},
     "output_type": "execute_result"
    }
   ],
   "source": [
    "np.arange(20,36,2)\n"
   ]
  },
  {
   "cell_type": "markdown",
   "id": "ed1eddab",
   "metadata": {},
   "source": [
    "# 6. Create a 3x3 matrix with values ranging from 0 to 8\n"
   ]
  },
  {
   "cell_type": "code",
   "execution_count": 8,
   "id": "3aacf8b1",
   "metadata": {},
   "outputs": [
    {
     "data": {
      "text/plain": [
       "array([[0, 1, 2],\n",
       "       [3, 4, 5],\n",
       "       [6, 7, 8]])"
      ]
     },
     "execution_count": 8,
     "metadata": {},
     "output_type": "execute_result"
    }
   ],
   "source": [
    "np.arange(0,9).reshape(3,3)\n"
   ]
  },
  {
   "cell_type": "markdown",
   "id": "dab412a3",
   "metadata": {},
   "source": [
    "# 7. Concatenate a and b\n"
   ]
  },
  {
   "cell_type": "markdown",
   "id": "d4d677a7",
   "metadata": {},
   "source": [
    "# a = np.array([1, 2, 3]), b = np.array([4, 5, 6])\n"
   ]
  },
  {
   "cell_type": "code",
   "execution_count": 9,
   "id": "de19b217",
   "metadata": {},
   "outputs": [
    {
     "data": {
      "text/plain": [
       "array([1, 2, 3, 4, 5, 6])"
      ]
     },
     "execution_count": 9,
     "metadata": {},
     "output_type": "execute_result"
    }
   ],
   "source": [
    "a = np.array([1, 2, 3])\n",
    "b = np.array([4, 5, 6])\n",
    "np.concatenate((a,b))\n"
   ]
  },
  {
   "cell_type": "markdown",
   "id": "3ff6ee77",
   "metadata": {},
   "source": [
    "# Pandas\n"
   ]
  },
  {
   "cell_type": "code",
   "execution_count": 10,
   "id": "fa3497f1",
   "metadata": {},
   "outputs": [],
   "source": [
    "import pandas as pd"
   ]
  },
  {
   "cell_type": "markdown",
   "id": "712c41ca",
   "metadata": {},
   "source": [
    "# 8. Create a dataframe with 3 rows and 2 columns\n"
   ]
  },
  {
   "cell_type": "code",
   "execution_count": 11,
   "id": "e2717ac4",
   "metadata": {},
   "outputs": [
    {
     "data": {
      "text/html": [
       "<div>\n",
       "<style scoped>\n",
       "    .dataframe tbody tr th:only-of-type {\n",
       "        vertical-align: middle;\n",
       "    }\n",
       "\n",
       "    .dataframe tbody tr th {\n",
       "        vertical-align: top;\n",
       "    }\n",
       "\n",
       "    .dataframe thead th {\n",
       "        text-align: right;\n",
       "    }\n",
       "</style>\n",
       "<table border=\"1\" class=\"dataframe\">\n",
       "  <thead>\n",
       "    <tr style=\"text-align: right;\">\n",
       "      <th></th>\n",
       "      <th>0</th>\n",
       "      <th>1</th>\n",
       "    </tr>\n",
       "  </thead>\n",
       "  <tbody>\n",
       "    <tr>\n",
       "      <th>0</th>\n",
       "      <td>0</td>\n",
       "      <td>1</td>\n",
       "    </tr>\n",
       "    <tr>\n",
       "      <th>1</th>\n",
       "      <td>2</td>\n",
       "      <td>3</td>\n",
       "    </tr>\n",
       "    <tr>\n",
       "      <th>2</th>\n",
       "      <td>4</td>\n",
       "      <td>5</td>\n",
       "    </tr>\n",
       "  </tbody>\n",
       "</table>\n",
       "</div>"
      ],
      "text/plain": [
       "   0  1\n",
       "0  0  1\n",
       "1  2  3\n",
       "2  4  5"
      ]
     },
     "execution_count": 11,
     "metadata": {},
     "output_type": "execute_result"
    }
   ],
   "source": [
    "data = np.arange(0,6).reshape(3,2)\n",
    "df = pd.DataFrame(data)\n",
    "df\n"
   ]
  },
  {
   "cell_type": "markdown",
   "id": "64fbc63a",
   "metadata": {},
   "source": [
    "# 9. Generate the series of dates from 1st Jan, 2023 to 10th Feb, 2023\n"
   ]
  },
  {
   "cell_type": "code",
   "execution_count": 12,
   "id": "0f2b0355",
   "metadata": {},
   "outputs": [
    {
     "data": {
      "text/plain": [
       "DatetimeIndex(['2023-01-01', '2023-01-02', '2023-01-03', '2023-01-04',\n",
       "               '2023-01-05', '2023-01-06', '2023-01-07', '2023-01-08',\n",
       "               '2023-01-09', '2023-01-10',\n",
       "               ...\n",
       "               '2023-09-23', '2023-09-24', '2023-09-25', '2023-09-26',\n",
       "               '2023-09-27', '2023-09-28', '2023-09-29', '2023-09-30',\n",
       "               '2023-10-01', '2023-10-02'],\n",
       "              dtype='datetime64[ns]', length=275, freq='D')"
      ]
     },
     "execution_count": 12,
     "metadata": {},
     "output_type": "execute_result"
    }
   ],
   "source": [
    "df = pd.date_range(start='1/1/23', end='10/2/23')\n",
    "df\n"
   ]
  },
  {
   "cell_type": "markdown",
   "id": "44cd9432",
   "metadata": {},
   "source": [
    "# 10. Create 2D list to DataFrame\n"
   ]
  },
  {
   "cell_type": "markdown",
   "id": "a2cbd902",
   "metadata": {},
   "source": [
    "# lists = [[1, 'aaa', 22], [2, 'bbb', 25], [3, 'ccc', 24]]\n",
    "\n"
   ]
  },
  {
   "cell_type": "code",
   "execution_count": 13,
   "id": "22e11cd2",
   "metadata": {},
   "outputs": [
    {
     "data": {
      "text/html": [
       "<div>\n",
       "<style scoped>\n",
       "    .dataframe tbody tr th:only-of-type {\n",
       "        vertical-align: middle;\n",
       "    }\n",
       "\n",
       "    .dataframe tbody tr th {\n",
       "        vertical-align: top;\n",
       "    }\n",
       "\n",
       "    .dataframe thead th {\n",
       "        text-align: right;\n",
       "    }\n",
       "</style>\n",
       "<table border=\"1\" class=\"dataframe\">\n",
       "  <thead>\n",
       "    <tr style=\"text-align: right;\">\n",
       "      <th></th>\n",
       "      <th>0</th>\n",
       "      <th>1</th>\n",
       "      <th>2</th>\n",
       "    </tr>\n",
       "  </thead>\n",
       "  <tbody>\n",
       "    <tr>\n",
       "      <th>0</th>\n",
       "      <td>1</td>\n",
       "      <td>aaa</td>\n",
       "      <td>22</td>\n",
       "    </tr>\n",
       "    <tr>\n",
       "      <th>1</th>\n",
       "      <td>2</td>\n",
       "      <td>bbb</td>\n",
       "      <td>25</td>\n",
       "    </tr>\n",
       "    <tr>\n",
       "      <th>2</th>\n",
       "      <td>3</td>\n",
       "      <td>ccc</td>\n",
       "      <td>24</td>\n",
       "    </tr>\n",
       "  </tbody>\n",
       "</table>\n",
       "</div>"
      ],
      "text/plain": [
       "   0    1   2\n",
       "0  1  aaa  22\n",
       "1  2  bbb  25\n",
       "2  3  ccc  24"
      ]
     },
     "execution_count": 13,
     "metadata": {},
     "output_type": "execute_result"
    }
   ],
   "source": [
    "lists = [[1, 'aaa', 22], [2, 'bbb', 25], [3, 'ccc', 24]]\n",
    "df = pd.DataFrame(lists)\n",
    "df\n"
   ]
  }
 ],
 "metadata": {
  "kernelspec": {
   "display_name": "Python 3",
   "language": "python",
   "name": "python3"
  },
  "language_info": {
   "codemirror_mode": {
    "name": "ipython",
    "version": 3
   },
   "file_extension": ".py",
   "mimetype": "text/x-python",
   "name": "python",
   "nbconvert_exporter": "python",
   "pygments_lexer": "ipython3",
   "version": "3.8.8"
  }
 },
 "nbformat": 4,
 "nbformat_minor": 5
}
