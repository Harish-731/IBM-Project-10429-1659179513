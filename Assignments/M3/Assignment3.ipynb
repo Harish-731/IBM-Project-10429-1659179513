{
 "cells": [
  {
   "cell_type": "code",
   "execution_count": 1,
   "id": "d1db7b74",
   "metadata": {},
   "outputs": [],
   "source": [
    "from keras_preprocessing.image import img_to_array, load_img"
   ]
  },
  {
   "cell_type": "code",
   "execution_count": 3,
   "id": "b8906268",
   "metadata": {},
   "outputs": [
    {
     "name": "stdout",
     "output_type": "stream",
     "text": [
      "Found 4317 images belonging to 5 classes.\n"
     ]
    }
   ],
   "source": [
    "from keras.preprocessing.image import ImageDataGenerator\n",
    "\n",
    "datagen = ImageDataGenerator(\n",
    "        rescale=1/255.0,\n",
    "        rotation_range=40,\n",
    "        width_shift_range=0.2,\n",
    "        height_shift_range=0.2,\n",
    "        shear_range=0.2,\n",
    "        zoom_range=0.2,\n",
    "        horizontal_flip=True,\n",
    "        fill_mode='reflect')\n",
    "\n",
    "generator = datagen.flow_from_directory(\n",
    "    r\"/home/blackevil/Downloads/Flowers-Dataset/flowers\",\n",
    "    target_size=(150,150),\n",
    "    batch_size=16,\n",
    "    class_mode='sparse'\n",
    ")"
   ]
  },
  {
   "cell_type": "code",
   "execution_count": 4,
   "id": "06093797",
   "metadata": {},
   "outputs": [],
   "source": [
    "import tensorflow as tf\n",
    "from keras.models import Sequential\n",
    "from keras.layers import Conv2D, MaxPooling2D\n",
    "from keras.layers import Activation, Dropout, Flatten, Dense\n",
    "from tensorflow.keras.callbacks import TensorBoard\n",
    "import time\n",
    "%load_ext tensorboard"
   ]
  },
  {
   "cell_type": "code",
   "execution_count": 6,
   "id": "d6aea341",
   "metadata": {},
   "outputs": [
    {
     "name": "stdout",
     "output_type": "stream",
     "text": [
      "3-conv-64-nodes-1-dense-1667552280\n",
      "Epoch 1/25\n",
      "270/270 [==============================] - 186s 684ms/step - loss: 1.3009 - accuracy: 0.4225\n",
      "Epoch 2/25\n",
      "270/270 [==============================] - 186s 689ms/step - loss: 1.0627 - accuracy: 0.5620\n",
      "Epoch 3/25\n",
      "270/270 [==============================] - 181s 671ms/step - loss: 0.9722 - accuracy: 0.6164\n",
      "Epoch 4/25\n",
      "270/270 [==============================] - 177s 656ms/step - loss: 0.9112 - accuracy: 0.6382\n",
      "Epoch 5/25\n",
      "270/270 [==============================] - 166s 613ms/step - loss: 0.8788 - accuracy: 0.6565\n",
      "Epoch 6/25\n",
      "270/270 [==============================] - 175s 649ms/step - loss: 0.8514 - accuracy: 0.6671\n",
      "Epoch 7/25\n",
      "270/270 [==============================] - 183s 679ms/step - loss: 0.8171 - accuracy: 0.6810\n",
      "Epoch 8/25\n",
      "270/270 [==============================] - 175s 647ms/step - loss: 0.7852 - accuracy: 0.6910\n",
      "Epoch 9/25\n",
      "270/270 [==============================] - 178s 660ms/step - loss: 0.7700 - accuracy: 0.7047\n",
      "Epoch 10/25\n",
      "270/270 [==============================] - 195s 721ms/step - loss: 0.7488 - accuracy: 0.7153\n",
      "Epoch 11/25\n",
      "270/270 [==============================] - 189s 700ms/step - loss: 0.7331 - accuracy: 0.7225\n",
      "Epoch 12/25\n",
      "270/270 [==============================] - 192s 710ms/step - loss: 0.7217 - accuracy: 0.7234\n",
      "Epoch 13/25\n",
      "270/270 [==============================] - 187s 693ms/step - loss: 0.6976 - accuracy: 0.7301\n",
      "Epoch 14/25\n",
      "270/270 [==============================] - 187s 693ms/step - loss: 0.6992 - accuracy: 0.7281\n",
      "Epoch 15/25\n",
      "270/270 [==============================] - 198s 734ms/step - loss: 0.6640 - accuracy: 0.7431\n",
      "Epoch 16/25\n",
      "270/270 [==============================] - 198s 731ms/step - loss: 0.6533 - accuracy: 0.7552\n",
      "Epoch 17/25\n",
      "270/270 [==============================] - 215s 798ms/step - loss: 0.6586 - accuracy: 0.7491\n",
      "Epoch 18/25\n",
      "270/270 [==============================] - 222s 822ms/step - loss: 0.6462 - accuracy: 0.7528\n",
      "Epoch 19/25\n",
      "270/270 [==============================] - 222s 823ms/step - loss: 0.6256 - accuracy: 0.7589\n",
      "Epoch 20/25\n",
      "270/270 [==============================] - 211s 781ms/step - loss: 0.6168 - accuracy: 0.7688\n",
      "Epoch 21/25\n",
      "270/270 [==============================] - 223s 824ms/step - loss: 0.6253 - accuracy: 0.7674\n",
      "Epoch 22/25\n",
      "270/270 [==============================] - 227s 841ms/step - loss: 0.6015 - accuracy: 0.7772\n",
      "Epoch 23/25\n",
      "270/270 [==============================] - 219s 812ms/step - loss: 0.5696 - accuracy: 0.7820\n",
      "Epoch 24/25\n",
      "270/270 [==============================] - 223s 825ms/step - loss: 0.5759 - accuracy: 0.7772\n",
      "Epoch 25/25\n",
      "270/270 [==============================] - 217s 804ms/step - loss: 0.5921 - accuracy: 0.7753\n"
     ]
    }
   ],
   "source": [
    "dense_layers = [1]\n",
    "layer_sizes = [64]\n",
    "conv_layers = [3]\n",
    "SIZE = 150\n",
    "INPUT_SHAPE = (SIZE, SIZE, 3) \n",
    "\n",
    "for dense_layer in dense_layers:\n",
    "  for layer_size in layer_sizes:\n",
    "    for conv_layer in conv_layers:\n",
    "      NAME = \"{}-conv-{}-nodes-{}-dense-{}\".format(conv_layer, layer_size, dense_layer, int(time.time()))\n",
    "      tensorboard = TensorBoard(log_dir='logs/{}'.format(NAME))\n",
    "      \n",
    "      print(NAME)\n",
    "      #model initialzation\n",
    "      model = Sequential()\n",
    "\n",
    "      #model definition\n",
    "      model.add(Conv2D(layer_size, (3,3), input_shape = INPUT_SHAPE))\n",
    "      model.add(Activation('relu'))  \n",
    "      model.add(MaxPooling2D(pool_size=(2,2)))\n",
    "\n",
    "      for l in range(conv_layer-1):\n",
    "        model.add(Conv2D(layer_size, (3,3)))\n",
    "        model.add(Activation('relu')) \n",
    "        model.add(MaxPooling2D(pool_size=(2,2)))\n",
    "      \n",
    "      model.add(Flatten())\n",
    "\n",
    "      for l in range(dense_layer):\n",
    "        model.add(Dense(layer_size))\n",
    "        model.add(Activation('relu')) \n",
    "\n",
    "\n",
    "      #final output layer\n",
    "      model.add(Dense(5))\n",
    "      model.add(Activation('softmax'))\n",
    "\n",
    "      #settings\n",
    "      model.compile(loss='sparse_categorical_crossentropy',\n",
    "                    optimizer='adam',\n",
    "                    metrics=['accuracy'])\n",
    "      #fit\n",
    "      model.fit(generator, batch_size=64, epochs=25, callbacks=[tensorboard])"
   ]
  },
  {
   "cell_type": "code",
   "execution_count": 7,
   "id": "912d399a",
   "metadata": {},
   "outputs": [
    {
     "name": "stdout",
     "output_type": "stream",
     "text": [
      "Model: \"sequential_1\"\n",
      "_________________________________________________________________\n",
      " Layer (type)                Output Shape              Param #   \n",
      "=================================================================\n",
      " conv2d_3 (Conv2D)           (None, 148, 148, 64)      1792      \n",
      "                                                                 \n",
      " activation_5 (Activation)   (None, 148, 148, 64)      0         \n",
      "                                                                 \n",
      " max_pooling2d_3 (MaxPooling  (None, 74, 74, 64)       0         \n",
      " 2D)                                                             \n",
      "                                                                 \n",
      " conv2d_4 (Conv2D)           (None, 72, 72, 64)        36928     \n",
      "                                                                 \n",
      " activation_6 (Activation)   (None, 72, 72, 64)        0         \n",
      "                                                                 \n",
      " max_pooling2d_4 (MaxPooling  (None, 36, 36, 64)       0         \n",
      " 2D)                                                             \n",
      "                                                                 \n",
      " conv2d_5 (Conv2D)           (None, 34, 34, 64)        36928     \n",
      "                                                                 \n",
      " activation_7 (Activation)   (None, 34, 34, 64)        0         \n",
      "                                                                 \n",
      " max_pooling2d_5 (MaxPooling  (None, 17, 17, 64)       0         \n",
      " 2D)                                                             \n",
      "                                                                 \n",
      " flatten_1 (Flatten)         (None, 18496)             0         \n",
      "                                                                 \n",
      " dense_2 (Dense)             (None, 64)                1183808   \n",
      "                                                                 \n",
      " activation_8 (Activation)   (None, 64)                0         \n",
      "                                                                 \n",
      " dense_3 (Dense)             (None, 5)                 325       \n",
      "                                                                 \n",
      " activation_9 (Activation)   (None, 5)                 0         \n",
      "                                                                 \n",
      "=================================================================\n",
      "Total params: 1,259,781\n",
      "Trainable params: 1,259,781\n",
      "Non-trainable params: 0\n",
      "_________________________________________________________________\n"
     ]
    }
   ],
   "source": [
    "model.summary()"
   ]
  },
  {
   "cell_type": "code",
   "execution_count": 9,
   "id": "ba6d8477",
   "metadata": {},
   "outputs": [],
   "source": [
    "model.save('Flowers.h5')"
   ]
  },
  {
   "cell_type": "code",
   "execution_count": 11,
   "id": "194d6a0c",
   "metadata": {},
   "outputs": [],
   "source": [
    "import cv2\n",
    "\n",
    "CATEGORIES = ['Daisy', 'Dandelion', 'Rose', 'Sunflower', 'Tulip']\n",
    "\n",
    "def prepare(filepath):\n",
    "  IMG_SIZE = 150\n",
    "  img_array = cv2.imread(filepath)\n",
    "  new_array = cv2.resize(img_array, (IMG_SIZE, IMG_SIZE))\n",
    "  return new_array.reshape(-1, IMG_SIZE, IMG_SIZE, 3)"
   ]
  },
  {
   "cell_type": "code",
   "execution_count": 14,
   "id": "dd78cfd6",
   "metadata": {},
   "outputs": [
    {
     "name": "stdout",
     "output_type": "stream",
     "text": [
      "1/1 [==============================] - 0s 140ms/step\n",
      "Dandelion\n"
     ]
    }
   ],
   "source": [
    "prediction = model.predict([prepare(r\"/home/blackevil/Downloads/Flowers-Dataset/flowers/dandelion/7355522_b66e5d3078_m.jpg\")])\n",
    "print(CATEGORIES[int(prediction[0][0])])"
   ]
  },
  {
   "cell_type": "code",
   "execution_count": null,
   "id": "3adfce2f",
   "metadata": {},
   "outputs": [],
   "source": []
  }
 ],
 "metadata": {
  "kernelspec": {
   "display_name": "Python 3 (ipykernel)",
   "language": "python",
   "name": "python3"
  },
  "language_info": {
   "codemirror_mode": {
    "name": "ipython",
    "version": 3
   },
   "file_extension": ".py",
   "mimetype": "text/x-python",
   "name": "python",
   "nbconvert_exporter": "python",
   "pygments_lexer": "ipython3",
   "version": "3.9.7"
  }
 },
 "nbformat": 4,
 "nbformat_minor": 5
}
