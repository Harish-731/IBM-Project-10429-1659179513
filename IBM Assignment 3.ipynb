{
 "cells": [
  {
   "cell_type": "code",
   "execution_count": 4,
   "id": "d7726b4b",
   "metadata": {},
   "outputs": [],
   "source": [
    "from keras_preprocessing.image import img_to_array, load_img\n"
   ]
  },
  {
   "cell_type": "code",
   "execution_count": 5,
   "id": "1a6640ac",
   "metadata": {},
   "outputs": [
    {
     "name": "stdout",
     "output_type": "stream",
     "text": [
      "Found 4317 images belonging to 5 classes.\n"
     ]
    }
   ],
   "source": [
    "from keras.preprocessing.image import ImageDataGenerator\n",
    "\n",
    "datagen = ImageDataGenerator(\n",
    "        rescale=1/255.0,\n",
    "        rotation_range=40,\n",
    "        width_shift_range=0.2,\n",
    "        height_shift_range=0.2,\n",
    "        shear_range=0.2,\n",
    "        zoom_range=0.2,\n",
    "        horizontal_flip=True,\n",
    "        fill_mode='reflect')\n",
    "\n",
    "generator = datagen.flow_from_directory(\n",
    "    r\"C:\\Users\\haris\\Downloads\\Flowers-Dataset\\flowers\",\n",
    "    target_size=(150,150),\n",
    "    batch_size=16,\n",
    "    class_mode='sparse'\n",
    ")"
   ]
  },
  {
   "cell_type": "code",
   "execution_count": 6,
   "id": "4e656843",
   "metadata": {},
   "outputs": [],
   "source": [
    "import tensorflow as tf\n",
    "from keras.models import Sequential\n",
    "from keras.layers import Conv2D, MaxPooling2D\n",
    "from keras.layers import Activation, Dropout, Flatten, Dense\n",
    "from tensorflow.keras.callbacks import TensorBoard\n",
    "import time\n",
    "%load_ext tensorboard"
   ]
  },
  {
   "cell_type": "code",
   "execution_count": 8,
   "id": "38880bba",
   "metadata": {},
   "outputs": [
    {
     "name": "stdout",
     "output_type": "stream",
     "text": [
      "3-conv-64-nodes-1-dense-1667298161\n",
      "Epoch 1/25\n",
      "270/270 [==============================] - 61s 225ms/step - loss: 1.2395 - accuracy: 0.4524\n",
      "Epoch 2/25\n",
      "270/270 [==============================] - 60s 223ms/step - loss: 0.9921 - accuracy: 0.6148\n",
      "Epoch 3/25\n",
      "270/270 [==============================] - 59s 217ms/step - loss: 0.9486 - accuracy: 0.6291\n",
      "Epoch 4/25\n",
      "270/270 [==============================] - 60s 221ms/step - loss: 0.8800 - accuracy: 0.6588\n",
      "Epoch 5/25\n",
      "270/270 [==============================] - 60s 220ms/step - loss: 0.8532 - accuracy: 0.6683\n",
      "Epoch 6/25\n",
      "270/270 [==============================] - 60s 221ms/step - loss: 0.8259 - accuracy: 0.6815\n",
      "Epoch 7/25\n",
      "270/270 [==============================] - 59s 220ms/step - loss: 0.8130 - accuracy: 0.6845\n",
      "Epoch 8/25\n",
      "270/270 [==============================] - 61s 226ms/step - loss: 0.8004 - accuracy: 0.6824\n",
      "Epoch 9/25\n",
      "270/270 [==============================] - 60s 223ms/step - loss: 0.7572 - accuracy: 0.7072\n",
      "Epoch 10/25\n",
      "270/270 [==============================] - 61s 225ms/step - loss: 0.7576 - accuracy: 0.7125\n",
      "Epoch 11/25\n",
      "270/270 [==============================] - 60s 223ms/step - loss: 0.7208 - accuracy: 0.7237\n",
      "Epoch 12/25\n",
      "270/270 [==============================] - 60s 223ms/step - loss: 0.7124 - accuracy: 0.7155\n",
      "Epoch 13/25\n",
      "270/270 [==============================] - 60s 222ms/step - loss: 0.6867 - accuracy: 0.7311\n",
      "Epoch 14/25\n",
      "270/270 [==============================] - 60s 222ms/step - loss: 0.6767 - accuracy: 0.7431\n",
      "Epoch 15/25\n",
      "270/270 [==============================] - 60s 223ms/step - loss: 0.6600 - accuracy: 0.7466\n",
      "Epoch 16/25\n",
      "270/270 [==============================] - 60s 221ms/step - loss: 0.6493 - accuracy: 0.7542\n",
      "Epoch 17/25\n",
      "270/270 [==============================] - 60s 221ms/step - loss: 0.6243 - accuracy: 0.7561\n",
      "Epoch 18/25\n",
      "270/270 [==============================] - 57s 211ms/step - loss: 0.6201 - accuracy: 0.7635\n",
      "Epoch 19/25\n",
      "270/270 [==============================] - 57s 210ms/step - loss: 0.6148 - accuracy: 0.7716\n",
      "Epoch 20/25\n",
      "270/270 [==============================] - 57s 213ms/step - loss: 0.6042 - accuracy: 0.7732\n",
      "Epoch 21/25\n",
      "270/270 [==============================] - 57s 210ms/step - loss: 0.5901 - accuracy: 0.7772\n",
      "Epoch 22/25\n",
      "270/270 [==============================] - 58s 214ms/step - loss: 0.5855 - accuracy: 0.7804\n",
      "Epoch 23/25\n",
      "270/270 [==============================] - 57s 209ms/step - loss: 0.5715 - accuracy: 0.7843\n",
      "Epoch 24/25\n",
      "270/270 [==============================] - 56s 206ms/step - loss: 0.5623 - accuracy: 0.7850\n",
      "Epoch 25/25\n",
      "270/270 [==============================] - 56s 205ms/step - loss: 0.5576 - accuracy: 0.7922\n"
     ]
    }
   ],
   "source": [
    "dense_layers = [1]\n",
    "layer_sizes = [64]\n",
    "conv_layers = [3]\n",
    "SIZE = 150\n",
    "INPUT_SHAPE = (SIZE, SIZE, 3) \n",
    "\n",
    "for dense_layer in dense_layers:\n",
    "  for layer_size in layer_sizes:\n",
    "    for conv_layer in conv_layers:\n",
    "      NAME = \"{}-conv-{}-nodes-{}-dense-{}\".format(conv_layer, layer_size, dense_layer, int(time.time()))\n",
    "      tensorboard = TensorBoard(log_dir='logs/{}'.format(NAME))\n",
    "      \n",
    "      print(NAME)\n",
    "      #model initialzation\n",
    "      model = Sequential()\n",
    "\n",
    "      #model definition\n",
    "      model.add(Conv2D(layer_size, (3,3), input_shape = INPUT_SHAPE))\n",
    "      model.add(Activation('relu'))  \n",
    "      model.add(MaxPooling2D(pool_size=(2,2)))\n",
    "\n",
    "      for l in range(conv_layer-1):\n",
    "        model.add(Conv2D(layer_size, (3,3)))\n",
    "        model.add(Activation('relu')) \n",
    "        model.add(MaxPooling2D(pool_size=(2,2)))\n",
    "      \n",
    "      model.add(Flatten())\n",
    "\n",
    "      for l in range(dense_layer):\n",
    "        model.add(Dense(layer_size))\n",
    "        model.add(Activation('relu')) \n",
    "\n",
    "\n",
    "      #final output layer\n",
    "      model.add(Dense(5))\n",
    "      model.add(Activation('softmax'))\n",
    "\n",
    "      #settings\n",
    "      model.compile(loss='sparse_categorical_crossentropy',\n",
    "                    optimizer='adam',\n",
    "                    metrics=['accuracy'])\n",
    "      #fit\n",
    "      model.fit(enerator, batch_size=64, epochs=25, callbacks=[tensorboard])"
   ]
  },
  {
   "cell_type": "code",
   "execution_count": 9,
   "id": "1e7ba3f8",
   "metadata": {},
   "outputs": [
    {
     "name": "stdout",
     "output_type": "stream",
     "text": [
      "Model: \"sequential_1\"\n",
      "_________________________________________________________________\n",
      " Layer (type)                Output Shape              Param #   \n",
      "=================================================================\n",
      " conv2d_3 (Conv2D)           (None, 148, 148, 64)      1792      \n",
      "                                                                 \n",
      " activation_5 (Activation)   (None, 148, 148, 64)      0         \n",
      "                                                                 \n",
      " max_pooling2d_3 (MaxPooling  (None, 74, 74, 64)       0         \n",
      " 2D)                                                             \n",
      "                                                                 \n",
      " conv2d_4 (Conv2D)           (None, 72, 72, 64)        36928     \n",
      "                                                                 \n",
      " activation_6 (Activation)   (None, 72, 72, 64)        0         \n",
      "                                                                 \n",
      " max_pooling2d_4 (MaxPooling  (None, 36, 36, 64)       0         \n",
      " 2D)                                                             \n",
      "                                                                 \n",
      " conv2d_5 (Conv2D)           (None, 34, 34, 64)        36928     \n",
      "                                                                 \n",
      " activation_7 (Activation)   (None, 34, 34, 64)        0         \n",
      "                                                                 \n",
      " max_pooling2d_5 (MaxPooling  (None, 17, 17, 64)       0         \n",
      " 2D)                                                             \n",
      "                                                                 \n",
      " flatten_1 (Flatten)         (None, 18496)             0         \n",
      "                                                                 \n",
      " dense_2 (Dense)             (None, 64)                1183808   \n",
      "                                                                 \n",
      " activation_8 (Activation)   (None, 64)                0         \n",
      "                                                                 \n",
      " dense_3 (Dense)             (None, 5)                 325       \n",
      "                                                                 \n",
      " activation_9 (Activation)   (None, 5)                 0         \n",
      "                                                                 \n",
      "=================================================================\n",
      "Total params: 1,259,781\n",
      "Trainable params: 1,259,781\n",
      "Non-trainable params: 0\n",
      "_________________________________________________________________\n"
     ]
    }
   ],
   "source": [
    "model.summary()"
   ]
  },
  {
   "cell_type": "code",
   "execution_count": 10,
   "id": "ac81219b",
   "metadata": {},
   "outputs": [],
   "source": [
    "model.save('Flwers.h5')"
   ]
  },
  {
   "cell_type": "code",
   "execution_count": 11,
   "id": "50dd4651",
   "metadata": {},
   "outputs": [],
   "source": [
    "import cv2\n",
    "\n",
    "CATEGORIES = ['Daisy', 'Dandelion', 'Rose', 'Sunflower', 'Tulip']\n",
    "\n",
    "def prepare(filepath):\n",
    "  IMG_SIZE = 150\n",
    "  img_array = cv2.imread(filepath)\n",
    "  new_array = cv2.resize(img_array, (IMG_SIZE, IMG_SIZE))\n",
    "  return new_array.reshape(-1, IMG_SIZE, IMG_SIZE, 3)"
   ]
  },
  {
   "cell_type": "code",
   "execution_count": 12,
   "id": "ccbdaa6c",
   "metadata": {},
   "outputs": [
    {
     "name": "stdout",
     "output_type": "stream",
     "text": [
      "1/1 [==============================] - 0s 73ms/step\n",
      "Dandelion\n"
     ]
    }
   ],
   "source": [
    "prediction = model.predict([prepare(r\"C:\\Users\\haris\\Downloads\\9818247_e2eac18894.jpg\")])\n",
    "print(CATEGORIES[int(prediction[0][0])])"
   ]
  }
 ],
 "metadata": {
  "kernelspec": {
   "display_name": "Python 3",
   "language": "python",
   "name": "python3"
  },
  "language_info": {
   "codemirror_mode": {
    "name": "ipython",
    "version": 3
   },
   "file_extension": ".py",
   "mimetype": "text/x-python",
   "name": "python",
   "nbconvert_exporter": "python",
   "pygments_lexer": "ipython3",
   "version": "3.8.8"
  }
 },
 "nbformat": 4,
 "nbformat_minor": 5
}
